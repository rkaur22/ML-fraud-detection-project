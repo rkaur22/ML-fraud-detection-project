{
 "cells": [
  {
   "cell_type": "code",
   "execution_count": 23,
   "id": "c226ab2c",
   "metadata": {},
   "outputs": [],
   "source": [
    "import pandas as pd\n",
    "import numpy as np\n",
    "\n",
    "from sklearn.model_selection import train_test_split\n",
    "from sklearn.preprocessing import StandardScaler\n",
    "\n",
    "from sklearn.model_selection import cross_val_predict\n",
    "\n",
    "from sklearn.ensemble import RandomForestClassifier\n",
    "from sklearn.metrics import confusion_matrix, f1_score, ConfusionMatrixDisplay, matthews_corrcoef\n",
    "from imblearn.over_sampling import SMOTENC\n",
    "\n",
    "import seaborn as sns\n",
    "import matplotlib.pyplot as plt \n",
    "\n",
    "%matplotlib inline\n",
    "RSEED=42"
   ]
  },
  {
   "cell_type": "code",
   "execution_count": 2,
   "id": "104439ed",
   "metadata": {},
   "outputs": [
    {
     "data": {
      "text/html": [
       "<div>\n",
       "<style scoped>\n",
       "    .dataframe tbody tr th:only-of-type {\n",
       "        vertical-align: middle;\n",
       "    }\n",
       "\n",
       "    .dataframe tbody tr th {\n",
       "        vertical-align: top;\n",
       "    }\n",
       "\n",
       "    .dataframe thead th {\n",
       "        text-align: right;\n",
       "    }\n",
       "</style>\n",
       "<table border=\"1\" class=\"dataframe\">\n",
       "  <thead>\n",
       "    <tr style=\"text-align: right;\">\n",
       "      <th></th>\n",
       "      <th>ProviderId</th>\n",
       "      <th>ProductCategory</th>\n",
       "      <th>ChannelId</th>\n",
       "      <th>PricingStrategy</th>\n",
       "      <th>weekday</th>\n",
       "      <th>difference</th>\n",
       "      <th>IsDebit</th>\n",
       "      <th>Value</th>\n",
       "      <th>time_of_day</th>\n",
       "      <th>FraudResult</th>\n",
       "    </tr>\n",
       "  </thead>\n",
       "  <tbody>\n",
       "    <tr>\n",
       "      <th>0</th>\n",
       "      <td>ProviderId_6</td>\n",
       "      <td>airtime</td>\n",
       "      <td>ChannelId_3</td>\n",
       "      <td>2</td>\n",
       "      <td>3</td>\n",
       "      <td>0.0</td>\n",
       "      <td>1</td>\n",
       "      <td>1000</td>\n",
       "      <td>8329</td>\n",
       "      <td>0</td>\n",
       "    </tr>\n",
       "    <tr>\n",
       "      <th>1</th>\n",
       "      <td>ProviderId_4</td>\n",
       "      <td>financial_services</td>\n",
       "      <td>ChannelId_2</td>\n",
       "      <td>2</td>\n",
       "      <td>3</td>\n",
       "      <td>0.0</td>\n",
       "      <td>0</td>\n",
       "      <td>20</td>\n",
       "      <td>8348</td>\n",
       "      <td>0</td>\n",
       "    </tr>\n",
       "    <tr>\n",
       "      <th>2</th>\n",
       "      <td>ProviderId_6</td>\n",
       "      <td>airtime</td>\n",
       "      <td>ChannelId_3</td>\n",
       "      <td>2</td>\n",
       "      <td>3</td>\n",
       "      <td>0.0</td>\n",
       "      <td>1</td>\n",
       "      <td>500</td>\n",
       "      <td>9861</td>\n",
       "      <td>0</td>\n",
       "    </tr>\n",
       "    <tr>\n",
       "      <th>3</th>\n",
       "      <td>ProviderId_1</td>\n",
       "      <td>utility_bill</td>\n",
       "      <td>ChannelId_3</td>\n",
       "      <td>2</td>\n",
       "      <td>3</td>\n",
       "      <td>1.0</td>\n",
       "      <td>1</td>\n",
       "      <td>21800</td>\n",
       "      <td>12775</td>\n",
       "      <td>0</td>\n",
       "    </tr>\n",
       "    <tr>\n",
       "      <th>4</th>\n",
       "      <td>ProviderId_4</td>\n",
       "      <td>financial_services</td>\n",
       "      <td>ChannelId_2</td>\n",
       "      <td>2</td>\n",
       "      <td>3</td>\n",
       "      <td>0.0</td>\n",
       "      <td>0</td>\n",
       "      <td>644</td>\n",
       "      <td>12861</td>\n",
       "      <td>0</td>\n",
       "    </tr>\n",
       "  </tbody>\n",
       "</table>\n",
       "</div>"
      ],
      "text/plain": [
       "     ProviderId     ProductCategory    ChannelId  PricingStrategy  weekday  \\\n",
       "0  ProviderId_6             airtime  ChannelId_3                2        3   \n",
       "1  ProviderId_4  financial_services  ChannelId_2                2        3   \n",
       "2  ProviderId_6             airtime  ChannelId_3                2        3   \n",
       "3  ProviderId_1        utility_bill  ChannelId_3                2        3   \n",
       "4  ProviderId_4  financial_services  ChannelId_2                2        3   \n",
       "\n",
       "   difference  IsDebit  Value  time_of_day  FraudResult  \n",
       "0         0.0        1   1000         8329            0  \n",
       "1         0.0        0     20         8348            0  \n",
       "2         0.0        1    500         9861            0  \n",
       "3         1.0        1  21800        12775            0  \n",
       "4         0.0        0    644        12861            0  "
      ]
     },
     "execution_count": 2,
     "metadata": {},
     "output_type": "execute_result"
    }
   ],
   "source": [
    "df = pd.read_csv('../data/training_new.csv')\n",
    "df.head()"
   ]
  },
  {
   "cell_type": "code",
   "execution_count": 3,
   "id": "eb77d423",
   "metadata": {},
   "outputs": [
    {
     "name": "stdout",
     "output_type": "stream",
     "text": [
      "<class 'pandas.core.frame.DataFrame'>\n",
      "RangeIndex: 95662 entries, 0 to 95661\n",
      "Data columns (total 10 columns):\n",
      " #   Column           Non-Null Count  Dtype  \n",
      "---  ------           --------------  -----  \n",
      " 0   ProviderId       95662 non-null  object \n",
      " 1   ProductCategory  95662 non-null  object \n",
      " 2   ChannelId        95662 non-null  object \n",
      " 3   PricingStrategy  95662 non-null  int64  \n",
      " 4   weekday          95662 non-null  int64  \n",
      " 5   difference       95662 non-null  float64\n",
      " 6   IsDebit          95662 non-null  int64  \n",
      " 7   Value            95662 non-null  int64  \n",
      " 8   time_of_day      95662 non-null  int64  \n",
      " 9   FraudResult      95662 non-null  int64  \n",
      "dtypes: float64(1), int64(6), object(3)\n",
      "memory usage: 7.3+ MB\n"
     ]
    }
   ],
   "source": [
    "df.info()"
   ]
  },
  {
   "cell_type": "code",
   "execution_count": 4,
   "id": "8d762d84",
   "metadata": {},
   "outputs": [],
   "source": [
    "df[['PricingStrategy', 'weekday', 'difference', 'IsDebit']] = df[['PricingStrategy', 'weekday', 'difference', 'IsDebit']].astype('object')"
   ]
  },
  {
   "cell_type": "code",
   "execution_count": 5,
   "id": "62ad3a64",
   "metadata": {},
   "outputs": [],
   "source": [
    "# Define predictors\n",
    "X = df.drop('FraudResult', axis=1)\n",
    "\n",
    "# Define target variable\n",
    "y = df['FraudResult']"
   ]
  },
  {
   "cell_type": "code",
   "execution_count": 6,
   "id": "c7cd84be",
   "metadata": {},
   "outputs": [],
   "source": [
    "# split into train and test data\n",
    "X_train, X_test, y_train, y_test = train_test_split(X, y, random_state=RSEED, stratify=y, test_size = .25)"
   ]
  },
  {
   "cell_type": "markdown",
   "id": "691e9b30",
   "metadata": {},
   "source": [
    "## Balancing the Training Dataset"
   ]
  },
  {
   "cell_type": "code",
   "execution_count": 7,
   "id": "8089be58",
   "metadata": {},
   "outputs": [],
   "source": [
    "# change to np.array for smote\n",
    "features = [\"ProviderId\", \"ProductCategory\", \"ChannelId\", \"PricingStrategy\", \n",
    "    \"weekday\", \"difference\", \"IsDebit\", \"Value\", \"time_of_day\"]\n",
    "\n",
    "X_train = np.array(\n",
    "    X_train[features]\n",
    "    )"
   ]
  },
  {
   "cell_type": "code",
   "execution_count": 8,
   "id": "086b7de2",
   "metadata": {},
   "outputs": [],
   "source": [
    "# initiate smotenc\n",
    "sm = SMOTENC(categorical_features=[0, 1, 2, 3, 4, 5, 6], random_state = RSEED)\n",
    "# run smotenc\n",
    "X_train_sm, y_train_sm = sm.fit_resample(X_train, y_train)"
   ]
  },
  {
   "cell_type": "code",
   "execution_count": 9,
   "id": "df42fcae",
   "metadata": {},
   "outputs": [],
   "source": [
    "# transform back into a data frame\n",
    "X_train_sm = pd.DataFrame(X_train_sm)"
   ]
  },
  {
   "cell_type": "code",
   "execution_count": 10,
   "id": "cfc11f13",
   "metadata": {},
   "outputs": [],
   "source": [
    "X_train_sm.columns = [\"ProviderId\", \"ProductCategory\", \"ChannelId\", \"PricingStrategy\", \n",
    "    \"weekday\", \"difference\", \"IsDebit\", \"Value\", \"time_of_day\"]\n",
    "X_train_sm = X_train_sm.astype({\"Value\": \"int32\", \"time_of_day\": \"int32\"})"
   ]
  },
  {
   "cell_type": "code",
   "execution_count": 11,
   "id": "667a82c6",
   "metadata": {},
   "outputs": [
    {
     "data": {
      "text/html": [
       "<div>\n",
       "<style scoped>\n",
       "    .dataframe tbody tr th:only-of-type {\n",
       "        vertical-align: middle;\n",
       "    }\n",
       "\n",
       "    .dataframe tbody tr th {\n",
       "        vertical-align: top;\n",
       "    }\n",
       "\n",
       "    .dataframe thead th {\n",
       "        text-align: right;\n",
       "    }\n",
       "</style>\n",
       "<table border=\"1\" class=\"dataframe\">\n",
       "  <thead>\n",
       "    <tr style=\"text-align: right;\">\n",
       "      <th></th>\n",
       "      <th>ProviderId</th>\n",
       "      <th>ProductCategory</th>\n",
       "      <th>ChannelId</th>\n",
       "      <th>PricingStrategy</th>\n",
       "      <th>weekday</th>\n",
       "      <th>difference</th>\n",
       "      <th>IsDebit</th>\n",
       "      <th>Value</th>\n",
       "      <th>time_of_day</th>\n",
       "    </tr>\n",
       "  </thead>\n",
       "  <tbody>\n",
       "    <tr>\n",
       "      <th>0</th>\n",
       "      <td>ProviderId_4</td>\n",
       "      <td>financial_services</td>\n",
       "      <td>ChannelId_2</td>\n",
       "      <td>2</td>\n",
       "      <td>4</td>\n",
       "      <td>0.0</td>\n",
       "      <td>0</td>\n",
       "      <td>200</td>\n",
       "      <td>28699</td>\n",
       "    </tr>\n",
       "    <tr>\n",
       "      <th>1</th>\n",
       "      <td>ProviderId_4</td>\n",
       "      <td>financial_services</td>\n",
       "      <td>ChannelId_2</td>\n",
       "      <td>2</td>\n",
       "      <td>0</td>\n",
       "      <td>0.0</td>\n",
       "      <td>0</td>\n",
       "      <td>40</td>\n",
       "      <td>41786</td>\n",
       "    </tr>\n",
       "    <tr>\n",
       "      <th>2</th>\n",
       "      <td>ProviderId_4</td>\n",
       "      <td>financial_services</td>\n",
       "      <td>ChannelId_2</td>\n",
       "      <td>2</td>\n",
       "      <td>6</td>\n",
       "      <td>0.0</td>\n",
       "      <td>0</td>\n",
       "      <td>50</td>\n",
       "      <td>61735</td>\n",
       "    </tr>\n",
       "    <tr>\n",
       "      <th>3</th>\n",
       "      <td>ProviderId_6</td>\n",
       "      <td>airtime</td>\n",
       "      <td>ChannelId_3</td>\n",
       "      <td>2</td>\n",
       "      <td>0</td>\n",
       "      <td>0.0</td>\n",
       "      <td>1</td>\n",
       "      <td>1000</td>\n",
       "      <td>65871</td>\n",
       "    </tr>\n",
       "    <tr>\n",
       "      <th>4</th>\n",
       "      <td>ProviderId_6</td>\n",
       "      <td>airtime</td>\n",
       "      <td>ChannelId_3</td>\n",
       "      <td>2</td>\n",
       "      <td>4</td>\n",
       "      <td>0.0</td>\n",
       "      <td>1</td>\n",
       "      <td>2000</td>\n",
       "      <td>49474</td>\n",
       "    </tr>\n",
       "    <tr>\n",
       "      <th>...</th>\n",
       "      <td>...</td>\n",
       "      <td>...</td>\n",
       "      <td>...</td>\n",
       "      <td>...</td>\n",
       "      <td>...</td>\n",
       "      <td>...</td>\n",
       "      <td>...</td>\n",
       "      <td>...</td>\n",
       "      <td>...</td>\n",
       "    </tr>\n",
       "    <tr>\n",
       "      <th>143197</th>\n",
       "      <td>ProviderId_1</td>\n",
       "      <td>financial_services</td>\n",
       "      <td>ChannelId_3</td>\n",
       "      <td>2</td>\n",
       "      <td>1</td>\n",
       "      <td>0.0</td>\n",
       "      <td>1</td>\n",
       "      <td>7812988</td>\n",
       "      <td>23404</td>\n",
       "    </tr>\n",
       "    <tr>\n",
       "      <th>143198</th>\n",
       "      <td>ProviderId_1</td>\n",
       "      <td>financial_services</td>\n",
       "      <td>ChannelId_3</td>\n",
       "      <td>4</td>\n",
       "      <td>1</td>\n",
       "      <td>0.0</td>\n",
       "      <td>1</td>\n",
       "      <td>500000</td>\n",
       "      <td>50042</td>\n",
       "    </tr>\n",
       "    <tr>\n",
       "      <th>143199</th>\n",
       "      <td>ProviderId_3</td>\n",
       "      <td>financial_services</td>\n",
       "      <td>ChannelId_3</td>\n",
       "      <td>2</td>\n",
       "      <td>5</td>\n",
       "      <td>0.0</td>\n",
       "      <td>1</td>\n",
       "      <td>500000</td>\n",
       "      <td>41148</td>\n",
       "    </tr>\n",
       "    <tr>\n",
       "      <th>143200</th>\n",
       "      <td>ProviderId_5</td>\n",
       "      <td>financial_services</td>\n",
       "      <td>ChannelId_3</td>\n",
       "      <td>2</td>\n",
       "      <td>2</td>\n",
       "      <td>0.0</td>\n",
       "      <td>1</td>\n",
       "      <td>800000</td>\n",
       "      <td>67202</td>\n",
       "    </tr>\n",
       "    <tr>\n",
       "      <th>143201</th>\n",
       "      <td>ProviderId_5</td>\n",
       "      <td>financial_services</td>\n",
       "      <td>ChannelId_3</td>\n",
       "      <td>2</td>\n",
       "      <td>4</td>\n",
       "      <td>0.0</td>\n",
       "      <td>1</td>\n",
       "      <td>2981782</td>\n",
       "      <td>23661</td>\n",
       "    </tr>\n",
       "  </tbody>\n",
       "</table>\n",
       "<p>143202 rows × 9 columns</p>\n",
       "</div>"
      ],
      "text/plain": [
       "          ProviderId     ProductCategory    ChannelId PricingStrategy weekday  \\\n",
       "0       ProviderId_4  financial_services  ChannelId_2               2       4   \n",
       "1       ProviderId_4  financial_services  ChannelId_2               2       0   \n",
       "2       ProviderId_4  financial_services  ChannelId_2               2       6   \n",
       "3       ProviderId_6             airtime  ChannelId_3               2       0   \n",
       "4       ProviderId_6             airtime  ChannelId_3               2       4   \n",
       "...              ...                 ...          ...             ...     ...   \n",
       "143197  ProviderId_1  financial_services  ChannelId_3               2       1   \n",
       "143198  ProviderId_1  financial_services  ChannelId_3               4       1   \n",
       "143199  ProviderId_3  financial_services  ChannelId_3               2       5   \n",
       "143200  ProviderId_5  financial_services  ChannelId_3               2       2   \n",
       "143201  ProviderId_5  financial_services  ChannelId_3               2       4   \n",
       "\n",
       "       difference IsDebit    Value  time_of_day  \n",
       "0             0.0       0      200        28699  \n",
       "1             0.0       0       40        41786  \n",
       "2             0.0       0       50        61735  \n",
       "3             0.0       1     1000        65871  \n",
       "4             0.0       1     2000        49474  \n",
       "...           ...     ...      ...          ...  \n",
       "143197        0.0       1  7812988        23404  \n",
       "143198        0.0       1   500000        50042  \n",
       "143199        0.0       1   500000        41148  \n",
       "143200        0.0       1   800000        67202  \n",
       "143201        0.0       1  2981782        23661  \n",
       "\n",
       "[143202 rows x 9 columns]"
      ]
     },
     "execution_count": 11,
     "metadata": {},
     "output_type": "execute_result"
    }
   ],
   "source": [
    "X_train_sm"
   ]
  },
  {
   "cell_type": "code",
   "execution_count": 12,
   "id": "856cfd5b",
   "metadata": {},
   "outputs": [],
   "source": [
    "# distinguish between numerical and categorical features\n",
    "cat_features = [\n",
    "   \"ProviderId\", \"ProductCategory\", \"ChannelId\", \"PricingStrategy\", \n",
    "    \"weekday\", \"difference\", \"IsDebit\"\n",
    "    ]\n",
    "num_features = [\"Value\", \"time_of_day\"]"
   ]
  },
  {
   "cell_type": "code",
   "execution_count": 13,
   "id": "1cb6d221",
   "metadata": {},
   "outputs": [],
   "source": [
    "# Initiate scaler\n",
    "scaler = StandardScaler()\n",
    "\n",
    "# run scaler\n",
    "scaler = scaler.fit(X_train_sm[num_features])\n",
    "X_train_sm[num_features] = scaler.transform(X_train_sm[num_features])\n",
    "\n",
    "X_test[num_features] = scaler.transform(X_test[num_features])\n"
   ]
  },
  {
   "cell_type": "code",
   "execution_count": 14,
   "id": "6c463a43",
   "metadata": {},
   "outputs": [],
   "source": [
    "# a function to create dummy variable\n",
    "def create_dummies(X, cf):\n",
    "    \"\"\"function to get dummy variables \n",
    "\n",
    "    Args:\n",
    "        X (pd.frame): test or train data\n",
    "        cf (string): column names of categorical data in X\n",
    "\n",
    "    \"\"\"\n",
    "    # all features should be categorical\n",
    "    X[cf] = X[cf].astype(\"category\")\n",
    "    # get_dummies\n",
    "    dummies = pd.get_dummies(X[cf], drop_first=True)\n",
    "    X = X.drop(cf, axis=1)\n",
    "    X[dummies.columns] = dummies\n",
    "    \n",
    "    return X, dummies.columns"
   ]
  },
  {
   "cell_type": "code",
   "execution_count": 15,
   "id": "bb8ff9fb",
   "metadata": {},
   "outputs": [],
   "source": [
    "# Create dummy variables for training and test set\n",
    "X_train_sm_sc, cat_features_dummies = create_dummies(X_train_sm, cat_features)\n",
    "X_test_sc, cat_features = create_dummies(X_test, cat_features)"
   ]
  },
  {
   "cell_type": "markdown",
   "id": "99bc9d63",
   "metadata": {},
   "source": [
    "### Logistic Regression"
   ]
  },
  {
   "cell_type": "code",
   "execution_count": 16,
   "id": "415afbad",
   "metadata": {},
   "outputs": [],
   "source": [
    "from sklearn.linear_model import LogisticRegression\n",
    "\n",
    "# Initiate model\n",
    "logreg = LogisticRegression(random_state = RSEED)\n",
    "y_train_pred = logreg.fit(X_train_sm_sc, y_train_sm)\n",
    "y_test_pred = logreg.predict(X_test_sc)"
   ]
  },
  {
   "cell_type": "code",
   "execution_count": 17,
   "id": "e668b27f",
   "metadata": {},
   "outputs": [
    {
     "data": {
      "text/plain": [
       "array([[23720,   148],\n",
       "       [    2,    46]])"
      ]
     },
     "execution_count": 17,
     "metadata": {},
     "output_type": "execute_result"
    }
   ],
   "source": [
    "confusion_matrix(y_test, y_test_pred)"
   ]
  },
  {
   "cell_type": "code",
   "execution_count": 18,
   "id": "534f3e96",
   "metadata": {},
   "outputs": [
    {
     "name": "stdout",
     "output_type": "stream",
     "text": [
      "Cross validation scores Logistic Regression:\n",
      "-------------------------\n",
      "F1-score: 0.38\n",
      "MCC: 0.48\n"
     ]
    }
   ],
   "source": [
    "# Calculating the accuracy for the LogisticRegression Classifier \n",
    "print('Cross validation scores Logistic Regression:')\n",
    "print('-------------------------')\n",
    "print(\"F1-score: {:.2f}\".format(f1_score(y_test, y_test_pred)))\n",
    "print(\"MCC: {:.2f}\".format(matthews_corrcoef(y_test, y_test_pred)))"
   ]
  },
  {
   "cell_type": "code",
   "execution_count": null,
   "id": "24c53858",
   "metadata": {},
   "outputs": [],
   "source": []
  },
  {
   "cell_type": "markdown",
   "id": "76e59e6b",
   "metadata": {},
   "source": [
    "## Random forest classifier"
   ]
  },
  {
   "cell_type": "code",
   "execution_count": 20,
   "id": "9776fe47",
   "metadata": {},
   "outputs": [
    {
     "data": {
      "text/plain": [
       "array([[23845,    23],\n",
       "       [    8,    40]])"
      ]
     },
     "execution_count": 20,
     "metadata": {},
     "output_type": "execute_result"
    }
   ],
   "source": [
    "# Train a Random Forest classifier\n",
    "\n",
    "# Initiate model\n",
    "rf = RandomForestClassifier(random_state=RSEED)\n",
    "rf.fit(X_train_sm_sc, y_train_sm)\n",
    "y_test_pred_rf = rf.predict(X_test_sc)\n",
    "\n",
    "confusion_matrix(y_test, y_test_pred_rf)"
   ]
  },
  {
   "cell_type": "code",
   "execution_count": 21,
   "id": "9601523b",
   "metadata": {},
   "outputs": [],
   "source": [
    "# Get feature importances\n",
    "rf_model = RandomForestClassifier(random_state=RSEED)\n",
    "rf_model.fit(X_train_sm_sc, y_train_sm)\n",
    "importances = rf_model.feature_importances_\n",
    "std = np.std([tree.feature_importances_ for tree in rf_model.estimators_], axis=0)"
   ]
  },
  {
   "cell_type": "code",
   "execution_count": 24,
   "id": "52f798af",
   "metadata": {},
   "outputs": [
    {
     "data": {
      "image/png": "[encoded data removed]",
      "text/plain": [
       "<Figure size 640x480 with 1 Axes>"
      ]
     },
     "metadata": {},
     "output_type": "display_data"
    }
   ],
   "source": [
    "forest_importances = pd.Series(importances, index=X_train_sm_sc.columns)\n",
    "\n",
    "fig, ax = plt.subplots()\n",
    "forest_importances.plot.bar(yerr=std, ax=ax)\n",
    "ax.set_title(\"Feature importances\")\n",
    "ax.set_ylabel(\"Mean decrease in impurity\")\n",
    "fig.tight_layout()"
   ]
  },
  {
   "cell_type": "code",
   "execution_count": 26,
   "id": "03988766",
   "metadata": {},
   "outputs": [
    {
     "name": "stdout",
     "output_type": "stream",
     "text": [
      "Cross validation scores Random Forest:\n",
      "-------------------------\n",
      "F1-score: 0.72\n",
      "MCC: 0.73\n"
     ]
    }
   ],
   "source": [
    "# Calculating the accuracy for the RandomForest Classifier \n",
    "print('Cross validation scores Random Forest:')\n",
    "print('-------------------------')\n",
    "print(\"F1-score: {:.2f}\".format(f1_score(y_test, y_test_pred_rf)))\n",
    "print(\"MCC: {:.2f}\".format(matthews_corrcoef(y_test, y_test_pred_rf)))"
   ]
  },
  {
   "cell_type": "code",
   "execution_count": null,
   "id": "1466c9d5",
   "metadata": {},
   "outputs": [],
   "source": []
  }
 ],
 "metadata": {
  "kernelspec": {
   "display_name": "3.11.3",
   "language": "python",
   "name": "python3"
  },
  "language_info": {
   "codemirror_mode": {
    "name": "ipython",
    "version": 3
   },
   "file_extension": ".py",
   "mimetype": "text/x-python",
   "name": "python",
   "nbconvert_exporter": "python",
   "pygments_lexer": "ipython3",
   "version": "3.11.3"
  }
 },
 "nbformat": 4,
 "nbformat_minor": 5
}
