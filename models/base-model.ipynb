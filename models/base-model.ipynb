{
 "cells": [
  {
   "cell_type": "markdown",
   "id": "5b51c7af",
   "metadata": {},
   "source": [
    "In this base model of logistic regression, raw dataset from training.csv file has been used, without any feature engineering and only standard scaling has been performed as it's necessary for modeling.\n",
    "\n",
    "The Number of features we used for this base model are limited, only:\n",
    "\n",
    "ProviderId, ProductId, ProductCategory, ChannelId, Amount, PricingStrategy"
   ]
  },
  {
   "cell_type": "markdown",
   "id": "e7544ca7",
   "metadata": {},
   "source": [
    "### Import some Libraries"
   ]
  },
  {
   "cell_type": "code",
   "execution_count": 1,
   "id": "275d0eaf",
   "metadata": {},
   "outputs": [],
   "source": [
    "import pandas as pd\n",
    "import seaborn as sns\n",
    "import matplotlib.pyplot as plt\n",
    "\n",
    "from sklearn.linear_model import LogisticRegression\n",
    "\n",
    "from sklearn.pipeline import Pipeline\n",
    "from sklearn.compose import ColumnTransformer\n",
    "from sklearn.preprocessing import OneHotEncoder, StandardScaler\n",
    "from sklearn.model_selection import train_test_split\n",
    "from sklearn.model_selection import cross_val_predict\n",
    "from sklearn.metrics import confusion_matrix, accuracy_score, recall_score, precision_score, f1_score, ConfusionMatrixDisplay\n",
    "\n",
    "import warnings\n",
    "\n",
    "# Set random seed \n",
    "RSEED = 42"
   ]
  },
  {
   "cell_type": "code",
   "execution_count": 2,
   "id": "256a4367",
   "metadata": {},
   "outputs": [],
   "source": [
    "# Load data\n",
    "df = pd.read_csv('../data/training.csv', parse_dates=['TransactionStartTime']).drop(['CountryCode', 'CurrencyCode'], axis=1)"
   ]
  },
  {
   "cell_type": "code",
   "execution_count": 3,
   "id": "3486b92f",
   "metadata": {},
   "outputs": [
    {
     "data": {
      "text/html": [
       "<div>\n",
       "<style scoped>\n",
       "    .dataframe tbody tr th:only-of-type {\n",
       "        vertical-align: middle;\n",
       "    }\n",
       "\n",
       "    .dataframe tbody tr th {\n",
       "        vertical-align: top;\n",
       "    }\n",
       "\n",
       "    .dataframe thead th {\n",
       "        text-align: right;\n",
       "    }\n",
       "</style>\n",
       "<table border=\"1\" class=\"dataframe\">\n",
       "  <thead>\n",
       "    <tr style=\"text-align: right;\">\n",
       "      <th></th>\n",
       "      <th>TransactionId</th>\n",
       "      <th>BatchId</th>\n",
       "      <th>AccountId</th>\n",
       "      <th>SubscriptionId</th>\n",
       "      <th>CustomerId</th>\n",
       "      <th>ProviderId</th>\n",
       "      <th>ProductId</th>\n",
       "      <th>ProductCategory</th>\n",
       "      <th>ChannelId</th>\n",
       "      <th>Amount</th>\n",
       "      <th>Value</th>\n",
       "      <th>TransactionStartTime</th>\n",
       "      <th>PricingStrategy</th>\n",
       "      <th>FraudResult</th>\n",
       "    </tr>\n",
       "  </thead>\n",
       "  <tbody>\n",
       "    <tr>\n",
       "      <th>0</th>\n",
       "      <td>TransactionId_76871</td>\n",
       "      <td>BatchId_36123</td>\n",
       "      <td>AccountId_3957</td>\n",
       "      <td>SubscriptionId_887</td>\n",
       "      <td>CustomerId_4406</td>\n",
       "      <td>ProviderId_6</td>\n",
       "      <td>ProductId_10</td>\n",
       "      <td>airtime</td>\n",
       "      <td>ChannelId_3</td>\n",
       "      <td>1000.0</td>\n",
       "      <td>1000</td>\n",
       "      <td>2018-11-15 02:18:49+00:00</td>\n",
       "      <td>2</td>\n",
       "      <td>0</td>\n",
       "    </tr>\n",
       "    <tr>\n",
       "      <th>1</th>\n",
       "      <td>TransactionId_73770</td>\n",
       "      <td>BatchId_15642</td>\n",
       "      <td>AccountId_4841</td>\n",
       "      <td>SubscriptionId_3829</td>\n",
       "      <td>CustomerId_4406</td>\n",
       "      <td>ProviderId_4</td>\n",
       "      <td>ProductId_6</td>\n",
       "      <td>financial_services</td>\n",
       "      <td>ChannelId_2</td>\n",
       "      <td>-20.0</td>\n",
       "      <td>20</td>\n",
       "      <td>2018-11-15 02:19:08+00:00</td>\n",
       "      <td>2</td>\n",
       "      <td>0</td>\n",
       "    </tr>\n",
       "    <tr>\n",
       "      <th>2</th>\n",
       "      <td>TransactionId_26203</td>\n",
       "      <td>BatchId_53941</td>\n",
       "      <td>AccountId_4229</td>\n",
       "      <td>SubscriptionId_222</td>\n",
       "      <td>CustomerId_4683</td>\n",
       "      <td>ProviderId_6</td>\n",
       "      <td>ProductId_1</td>\n",
       "      <td>airtime</td>\n",
       "      <td>ChannelId_3</td>\n",
       "      <td>500.0</td>\n",
       "      <td>500</td>\n",
       "      <td>2018-11-15 02:44:21+00:00</td>\n",
       "      <td>2</td>\n",
       "      <td>0</td>\n",
       "    </tr>\n",
       "    <tr>\n",
       "      <th>3</th>\n",
       "      <td>TransactionId_380</td>\n",
       "      <td>BatchId_102363</td>\n",
       "      <td>AccountId_648</td>\n",
       "      <td>SubscriptionId_2185</td>\n",
       "      <td>CustomerId_988</td>\n",
       "      <td>ProviderId_1</td>\n",
       "      <td>ProductId_21</td>\n",
       "      <td>utility_bill</td>\n",
       "      <td>ChannelId_3</td>\n",
       "      <td>20000.0</td>\n",
       "      <td>21800</td>\n",
       "      <td>2018-11-15 03:32:55+00:00</td>\n",
       "      <td>2</td>\n",
       "      <td>0</td>\n",
       "    </tr>\n",
       "    <tr>\n",
       "      <th>4</th>\n",
       "      <td>TransactionId_28195</td>\n",
       "      <td>BatchId_38780</td>\n",
       "      <td>AccountId_4841</td>\n",
       "      <td>SubscriptionId_3829</td>\n",
       "      <td>CustomerId_988</td>\n",
       "      <td>ProviderId_4</td>\n",
       "      <td>ProductId_6</td>\n",
       "      <td>financial_services</td>\n",
       "      <td>ChannelId_2</td>\n",
       "      <td>-644.0</td>\n",
       "      <td>644</td>\n",
       "      <td>2018-11-15 03:34:21+00:00</td>\n",
       "      <td>2</td>\n",
       "      <td>0</td>\n",
       "    </tr>\n",
       "  </tbody>\n",
       "</table>\n",
       "</div>"
      ],
      "text/plain": [
       "         TransactionId         BatchId       AccountId       SubscriptionId  \\\n",
       "0  TransactionId_76871   BatchId_36123  AccountId_3957   SubscriptionId_887   \n",
       "1  TransactionId_73770   BatchId_15642  AccountId_4841  SubscriptionId_3829   \n",
       "2  TransactionId_26203   BatchId_53941  AccountId_4229   SubscriptionId_222   \n",
       "3    TransactionId_380  BatchId_102363   AccountId_648  SubscriptionId_2185   \n",
       "4  TransactionId_28195   BatchId_38780  AccountId_4841  SubscriptionId_3829   \n",
       "\n",
       "        CustomerId    ProviderId     ProductId     ProductCategory  \\\n",
       "0  CustomerId_4406  ProviderId_6  ProductId_10             airtime   \n",
       "1  CustomerId_4406  ProviderId_4   ProductId_6  financial_services   \n",
       "2  CustomerId_4683  ProviderId_6   ProductId_1             airtime   \n",
       "3   CustomerId_988  ProviderId_1  ProductId_21        utility_bill   \n",
       "4   CustomerId_988  ProviderId_4   ProductId_6  financial_services   \n",
       "\n",
       "     ChannelId   Amount  Value      TransactionStartTime  PricingStrategy  \\\n",
       "0  ChannelId_3   1000.0   1000 2018-11-15 02:18:49+00:00                2   \n",
       "1  ChannelId_2    -20.0     20 2018-11-15 02:19:08+00:00                2   \n",
       "2  ChannelId_3    500.0    500 2018-11-15 02:44:21+00:00                2   \n",
       "3  ChannelId_3  20000.0  21800 2018-11-15 03:32:55+00:00                2   \n",
       "4  ChannelId_2   -644.0    644 2018-11-15 03:34:21+00:00                2   \n",
       "\n",
       "   FraudResult  \n",
       "0            0  \n",
       "1            0  \n",
       "2            0  \n",
       "3            0  \n",
       "4            0  "
      ]
     },
     "execution_count": 3,
     "metadata": {},
     "output_type": "execute_result"
    }
   ],
   "source": [
    "df.head()"
   ]
  },
  {
   "cell_type": "code",
   "execution_count": 4,
   "id": "724a6b59",
   "metadata": {},
   "outputs": [
    {
     "name": "stdout",
     "output_type": "stream",
     "text": [
      "<class 'pandas.core.frame.DataFrame'>\n",
      "RangeIndex: 95662 entries, 0 to 95661\n",
      "Data columns (total 14 columns):\n",
      " #   Column                Non-Null Count  Dtype              \n",
      "---  ------                --------------  -----              \n",
      " 0   TransactionId         95662 non-null  object             \n",
      " 1   BatchId               95662 non-null  object             \n",
      " 2   AccountId             95662 non-null  object             \n",
      " 3   SubscriptionId        95662 non-null  object             \n",
      " 4   CustomerId            95662 non-null  object             \n",
      " 5   ProviderId            95662 non-null  object             \n",
      " 6   ProductId             95662 non-null  object             \n",
      " 7   ProductCategory       95662 non-null  object             \n",
      " 8   ChannelId             95662 non-null  object             \n",
      " 9   Amount                95662 non-null  float64            \n",
      " 10  Value                 95662 non-null  int64              \n",
      " 11  TransactionStartTime  95662 non-null  datetime64[ns, UTC]\n",
      " 12  PricingStrategy       95662 non-null  int64              \n",
      " 13  FraudResult           95662 non-null  int64              \n",
      "dtypes: datetime64[ns, UTC](1), float64(1), int64(3), object(9)\n",
      "memory usage: 10.2+ MB\n"
     ]
    }
   ],
   "source": [
    "df.info()"
   ]
  },
  {
   "cell_type": "code",
   "execution_count": 5,
   "id": "ab162f72",
   "metadata": {},
   "outputs": [
    {
     "data": {
      "text/plain": [
       "TransactionId           95662\n",
       "BatchId                 94809\n",
       "AccountId                3633\n",
       "SubscriptionId           3627\n",
       "CustomerId               3742\n",
       "ProviderId                  6\n",
       "ProductId                  23\n",
       "ProductCategory             9\n",
       "ChannelId                   4\n",
       "Amount                   1676\n",
       "Value                    1517\n",
       "TransactionStartTime    94556\n",
       "PricingStrategy             4\n",
       "FraudResult                 2\n",
       "dtype: int64"
      ]
     },
     "execution_count": 5,
     "metadata": {},
     "output_type": "execute_result"
    }
   ],
   "source": [
    "df.nunique()"
   ]
  },
  {
   "cell_type": "code",
   "execution_count": 6,
   "id": "0ae88ddd",
   "metadata": {},
   "outputs": [
    {
     "data": {
      "text/html": [
       "<div>\n",
       "<style scoped>\n",
       "    .dataframe tbody tr th:only-of-type {\n",
       "        vertical-align: middle;\n",
       "    }\n",
       "\n",
       "    .dataframe tbody tr th {\n",
       "        vertical-align: top;\n",
       "    }\n",
       "\n",
       "    .dataframe thead th {\n",
       "        text-align: right;\n",
       "    }\n",
       "</style>\n",
       "<table border=\"1\" class=\"dataframe\">\n",
       "  <thead>\n",
       "    <tr style=\"text-align: right;\">\n",
       "      <th></th>\n",
       "      <th>ProviderId</th>\n",
       "      <th>ProductId</th>\n",
       "      <th>ProductCategory</th>\n",
       "      <th>ChannelId</th>\n",
       "      <th>Amount</th>\n",
       "      <th>PricingStrategy</th>\n",
       "      <th>FraudResult</th>\n",
       "    </tr>\n",
       "  </thead>\n",
       "  <tbody>\n",
       "    <tr>\n",
       "      <th>0</th>\n",
       "      <td>ProviderId_6</td>\n",
       "      <td>ProductId_10</td>\n",
       "      <td>airtime</td>\n",
       "      <td>ChannelId_3</td>\n",
       "      <td>1000.0</td>\n",
       "      <td>2</td>\n",
       "      <td>0</td>\n",
       "    </tr>\n",
       "    <tr>\n",
       "      <th>1</th>\n",
       "      <td>ProviderId_4</td>\n",
       "      <td>ProductId_6</td>\n",
       "      <td>financial_services</td>\n",
       "      <td>ChannelId_2</td>\n",
       "      <td>-20.0</td>\n",
       "      <td>2</td>\n",
       "      <td>0</td>\n",
       "    </tr>\n",
       "    <tr>\n",
       "      <th>2</th>\n",
       "      <td>ProviderId_6</td>\n",
       "      <td>ProductId_1</td>\n",
       "      <td>airtime</td>\n",
       "      <td>ChannelId_3</td>\n",
       "      <td>500.0</td>\n",
       "      <td>2</td>\n",
       "      <td>0</td>\n",
       "    </tr>\n",
       "    <tr>\n",
       "      <th>3</th>\n",
       "      <td>ProviderId_1</td>\n",
       "      <td>ProductId_21</td>\n",
       "      <td>utility_bill</td>\n",
       "      <td>ChannelId_3</td>\n",
       "      <td>20000.0</td>\n",
       "      <td>2</td>\n",
       "      <td>0</td>\n",
       "    </tr>\n",
       "    <tr>\n",
       "      <th>4</th>\n",
       "      <td>ProviderId_4</td>\n",
       "      <td>ProductId_6</td>\n",
       "      <td>financial_services</td>\n",
       "      <td>ChannelId_2</td>\n",
       "      <td>-644.0</td>\n",
       "      <td>2</td>\n",
       "      <td>0</td>\n",
       "    </tr>\n",
       "  </tbody>\n",
       "</table>\n",
       "</div>"
      ],
      "text/plain": [
       "     ProviderId     ProductId     ProductCategory    ChannelId   Amount  \\\n",
       "0  ProviderId_6  ProductId_10             airtime  ChannelId_3   1000.0   \n",
       "1  ProviderId_4   ProductId_6  financial_services  ChannelId_2    -20.0   \n",
       "2  ProviderId_6   ProductId_1             airtime  ChannelId_3    500.0   \n",
       "3  ProviderId_1  ProductId_21        utility_bill  ChannelId_3  20000.0   \n",
       "4  ProviderId_4   ProductId_6  financial_services  ChannelId_2   -644.0   \n",
       "\n",
       "   PricingStrategy  FraudResult  \n",
       "0                2            0  \n",
       "1                2            0  \n",
       "2                2            0  \n",
       "3                2            0  \n",
       "4                2            0  "
      ]
     },
     "execution_count": 6,
     "metadata": {},
     "output_type": "execute_result"
    }
   ],
   "source": [
    "#selecting features for baseline model\n",
    "features = ['ProviderId', 'ProductId', 'ProductCategory', 'ChannelId', 'Amount', 'PricingStrategy', 'FraudResult']\n",
    "df_base = df[features]\n",
    "df_base.head()"
   ]
  },
  {
   "cell_type": "code",
   "execution_count": 7,
   "id": "b6fa043c",
   "metadata": {},
   "outputs": [],
   "source": [
    "# Creating separate lists for numerical and categorical predictors \n",
    "cat_features = list(df_base.columns[df_base.dtypes==object])\n",
    "num_features = list(df_base.columns[df_base.dtypes!=object])\n",
    "num_features.remove('FraudResult')"
   ]
  },
  {
   "cell_type": "code",
   "execution_count": 8,
   "id": "4c7782d1",
   "metadata": {},
   "outputs": [
    {
     "name": "stdout",
     "output_type": "stream",
     "text": [
      "['ProviderId', 'ProductId', 'ProductCategory', 'ChannelId']\n",
      "['Amount', 'PricingStrategy']\n"
     ]
    }
   ],
   "source": [
    "print(cat_features)\n",
    "print(num_features)"
   ]
  },
  {
   "cell_type": "code",
   "execution_count": 9,
   "id": "aa698cdb",
   "metadata": {},
   "outputs": [],
   "source": [
    "categorical_transformer = OneHotEncoder(handle_unknown=\"ignore\")\n",
    "numeric_transformer = StandardScaler()\n",
    "preprocessor = ColumnTransformer(\n",
    "    transformers=[\n",
    "        (\"cat\", categorical_transformer, cat_features),\n",
    "        (\"num\", numeric_transformer, num_features)\n",
    "    ]\n",
    ")"
   ]
  },
  {
   "cell_type": "code",
   "execution_count": 10,
   "id": "c793ecf8",
   "metadata": {},
   "outputs": [],
   "source": [
    "model = Pipeline(steps=[\n",
    "    (\"preprocessor\", preprocessor),\n",
    "    (\"classifier\", LogisticRegression(max_iter=1000, class_weight=\"balanced\"))\n",
    "])\n"
   ]
  },
  {
   "cell_type": "code",
   "execution_count": 11,
   "id": "ff573aff",
   "metadata": {},
   "outputs": [],
   "source": [
    "# Define predictors and target variable\n",
    "X = df_base[features].drop('FraudResult', axis=1)\n",
    "y = df_base['FraudResult']\n",
    "\n",
    "# Split into train and test set \n",
    "X_train, X_test, y_train, y_test = train_test_split(X, y, test_size=0.2, random_state=RSEED, stratify=y)"
   ]
  },
  {
   "cell_type": "code",
   "execution_count": 12,
   "id": "129a32a2",
   "metadata": {},
   "outputs": [
    {
     "name": "stdout",
     "output_type": "stream",
     "text": [
      "Train score: 0.9450796430111461\n",
      "Test score: 0.9454868551716928\n"
     ]
    }
   ],
   "source": [
    "model.fit(X_train, y_train)\n",
    "\n",
    "print(\"Train score:\", model.score(X_train, y_train))\n",
    "print(\"Test score:\", model.score(X_test, y_test))"
   ]
  },
  {
   "cell_type": "code",
   "execution_count": 13,
   "id": "953c2074",
   "metadata": {},
   "outputs": [],
   "source": [
    "y_train_predicted = cross_val_predict(model, X_train, y_train, cv=5)"
   ]
  },
  {
   "cell_type": "code",
   "execution_count": 14,
   "id": "700439ba",
   "metadata": {},
   "outputs": [
    {
     "name": "stdout",
     "output_type": "stream",
     "text": [
      "Cross validation scores:\n",
      "-------------------------\n",
      "Accuracy: 0.96\n",
      "Recall: 0.95\n",
      "F1-score: 0.08\n"
     ]
    }
   ],
   "source": [
    "# Calculating the accuracy for the LogisticRegression Classifier \n",
    "print('Cross validation scores:')\n",
    "print('-------------------------')\n",
    "print(\"Accuracy: {:.2f}\".format(accuracy_score(y_train, y_train_predicted)))\n",
    "print(\"Recall: {:.2f}\".format(recall_score(y_train, y_train_predicted)))\n",
    "print(\"F1-score: {:.2f}\".format(f1_score(y_train, y_train_predicted)))"
   ]
  },
  {
   "cell_type": "code",
   "execution_count": 15,
   "id": "473ad607",
   "metadata": {},
   "outputs": [
    {
     "data": {
      "text/plain": [
       "array([[73026,  3349],\n",
       "       [    7,   147]])"
      ]
     },
     "execution_count": 15,
     "metadata": {},
     "output_type": "execute_result"
    }
   ],
   "source": [
    "confusion_matrix(y_train, y_train_predicted)\n"
   ]
  },
  {
   "cell_type": "code",
   "execution_count": 16,
   "id": "b944838b",
   "metadata": {},
   "outputs": [
    {
     "name": "stdout",
     "output_type": "stream",
     "text": [
      "Cross validation scores:\n",
      "-------------------------\n",
      "Accuracy: 0.99\n",
      "Recall: 0.95\n",
      "F1-score: 0.25\n"
     ]
    }
   ],
   "source": [
    "y_test_predicted = cross_val_predict(model, X_test, y_test, cv=5)\n",
    "\n",
    "# Calculating the accuracy for the LogisticRegression Classifier \n",
    "print('Cross validation scores:')\n",
    "print('-------------------------')\n",
    "print(\"Accuracy: {:.2f}\".format(accuracy_score(y_test, y_test_predicted)))\n",
    "print(\"Recall: {:.2f}\".format(recall_score(y_test, y_test_predicted)))\n",
    "print(\"F1-score: {:.2f}\".format(f1_score(y_test, y_test_predicted)))"
   ]
  },
  {
   "cell_type": "code",
   "execution_count": 17,
   "id": "9a46028a",
   "metadata": {},
   "outputs": [
    {
     "data": {
      "text/plain": [
       "array([[18874,   220],\n",
       "       [    2,    37]])"
      ]
     },
     "execution_count": 17,
     "metadata": {},
     "output_type": "execute_result"
    }
   ],
   "source": [
    "confusion_matrix(y_test, y_test_predicted)"
   ]
  },
  {
   "cell_type": "code",
   "execution_count": 18,
   "id": "bd396247",
   "metadata": {},
   "outputs": [
    {
     "data": {
      "image/png": "[encoded data removed]",
      "text/plain": [
       "<Figure size 640x480 with 2 Axes>"
      ]
     },
     "metadata": {},
     "output_type": "display_data"
    }
   ],
   "source": [
    "# confusion matrix display\n",
    "conf_mat = confusion_matrix(y_test, y_test_predicted)\n",
    "disp = (ConfusionMatrixDisplay(confusion_matrix=conf_mat,\n",
    "                               display_labels=model.classes_))\n",
    "disp.plot();"
   ]
  }
 ],
 "metadata": {
  "kernelspec": {
   "display_name": "3.11.3",
   "language": "python",
   "name": "python3"
  },
  "language_info": {
   "codemirror_mode": {
    "name": "ipython",
    "version": 3
   },
   "file_extension": ".py",
   "mimetype": "text/x-python",
   "name": "python",
   "nbconvert_exporter": "python",
   "pygments_lexer": "ipython3",
   "version": "3.11.3"
  }
 },
 "nbformat": 4,
 "nbformat_minor": 5
}
